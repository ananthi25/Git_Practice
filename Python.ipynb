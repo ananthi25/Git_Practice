{
  "nbformat": 4,
  "nbformat_minor": 0,
  "metadata": {
    "colab": {
      "provenance": [],
      "authorship_tag": "ABX9TyPHsIwDV7yF2z4GRej9wiM0",
      "include_colab_link": true
    },
    "kernelspec": {
      "name": "python3",
      "display_name": "Python 3"
    },
    "language_info": {
      "name": "python"
    }
  },
  "cells": [
    {
      "cell_type": "markdown",
      "metadata": {
        "id": "view-in-github",
        "colab_type": "text"
      },
      "source": [
        "<a href=\"https://colab.research.google.com/github/ananthi25/Git_Practice/blob/main/Python.ipynb\" target=\"_parent\"><img src=\"https://colab.research.google.com/assets/colab-badge.svg\" alt=\"Open In Colab\"/></a>"
      ]
    },
    {
      "cell_type": "markdown",
      "source": [
        "###**Python Basics**"
      ],
      "metadata": {
        "id": "prabYY_ZKEOc"
      }
    },
    {
      "cell_type": "code",
      "execution_count": 22,
      "metadata": {
        "colab": {
          "base_uri": "https://localhost:8080/"
        },
        "id": "QzMbNIggJL8t",
        "outputId": "07a86723-25a3-4fdd-b4be-fd2b3b9118d0"
      },
      "outputs": [
        {
          "output_type": "stream",
          "name": "stdout",
          "text": [
            "Hello World\n"
          ]
        }
      ],
      "source": [
        "#First Program\n",
        "print(\"Hello World\")"
      ]
    },
    {
      "cell_type": "markdown",
      "source": [
        "**Printing in Python**"
      ],
      "metadata": {
        "id": "frbNbxaSwSvy"
      }
    },
    {
      "cell_type": "code",
      "source": [
        "#Printing in Python\n",
        "print('Hi Ananthi')\n",
        "print(2+1)\n",
        "print(10*3.5)\n",
        "print()\n",
        "print(\"Hi\",\"My\",\"Name\",\"is\",\"Ananthi\",25)  #By default. it takes one space\n",
        "print(\"Hi\",\"My\",\"Name\",\"is\",\"Ananthi\",sep='_')\n",
        "print(\"Hi\",\"My\",\"Name\",\"is\",\"Ananthi\",end='@@')\n",
        "print(\"Next Line\")\n",
        "print(\"Hi\",\"My\",\"Name\",\"is\",\"Ananthi\",end='\\n')\n",
        "print(\"Next Line\")\n",
        "print()\n",
        "print(\"Hi\",\"My\",\"Name\",\"is\",\"Ananthi\",end='@@\\n',sep='_')  #single Line\n",
        "print(\"Next Line\")"
      ],
      "metadata": {
        "colab": {
          "base_uri": "https://localhost:8080/"
        },
        "id": "eoFX1ynVLMiv",
        "outputId": "3427ae1e-bca3-470c-87ba-5439763e9adc"
      },
      "execution_count": null,
      "outputs": [
        {
          "output_type": "stream",
          "name": "stdout",
          "text": [
            "Hi Ananthi\n",
            "3\n",
            "35.0\n",
            "\n",
            "Hi My Name is Ananthi 25\n",
            "Hi_My_Name_is_Ananthi\n",
            "Hi My Name is Ananthi@@Next Line\n",
            "Hi My Name is Ananthi\n",
            "Next Line\n",
            "\n",
            "Hi_My_Name_is_Ananthi@@\n",
            "Next Line\n"
          ]
        }
      ]
    },
    {
      "cell_type": "markdown",
      "source": [
        "**Working With Strings and input in Python**"
      ],
      "metadata": {
        "id": "ud0KVV92wX0H"
      }
    },
    {
      "cell_type": "code",
      "source": [
        "#Working With Strings and input in Python\n",
        "print(\"Python is Easy to Learn\")\n",
        "print('Easy to Use')\n",
        "print('I \"Personally\" am loving it a lot')\n",
        "print(\"It's easy to include 'single quotes' also\")\n",
        "\n",
        "#This is a comment\n",
        "#Input From User\n",
        "Variable=\"Your Name is:\"\n",
        "name=\"Ananthi\"\n",
        "print(Variable+\" \"+name)\n",
        "\n",
        "Variable=\"Your Name is:\"\n",
        "name=input(\"Enter Your name: \")\n",
        "print(Variable+\" \"+name)"
      ],
      "metadata": {
        "colab": {
          "base_uri": "https://localhost:8080/"
        },
        "id": "CUoSQFANN82X",
        "outputId": "6494991b-59c4-496a-af4f-4afb634f98b9"
      },
      "execution_count": null,
      "outputs": [
        {
          "output_type": "stream",
          "name": "stdout",
          "text": [
            "Python is Easy to Learn\n",
            "Easy to Use\n",
            "I \"Personally\" am loving it a lot\n",
            "It's easy to include 'single quotes' also\n",
            "Your Name is: Ananthi\n",
            "Enter Your name: A\n",
            "Your Name is: A\n"
          ]
        }
      ]
    },
    {
      "cell_type": "markdown",
      "source": [
        "**Escape Sequence or Characters**"
      ],
      "metadata": {
        "id": "VLzfDJutwbeG"
      }
    },
    {
      "cell_type": "code",
      "source": [
        "#Escape Sequence or Characters\n",
        "#\\n gives you new line\n",
        "string1=\"I am a\\nstring\\nin several lines\"\n",
        "print(string1)\n",
        "\n",
        "#\\t gives few empty space(tabs)\n",
        "string2=\"1.oil\\t 2.Flour\\t 3.Bake\\t 4.Oven\\n\"\n",
        "print(string2)\n",
        "\n",
        "#\\',\\\",'''\n",
        "print('Donald Trump said \"It\\'s going to be huge\".')     #single quote inside single quote\n",
        "print(\"Donald Trump said \\\"It's going to be huge\\\".\")    #double quotes inside double quotes\n",
        "print('''Donald Trump said \"It's going to be huge\".\\n''')  #Triple Quotes-No Problem for any quotes\n",
        "\n",
        "string3=\"\"\"I am a string\n",
        "which is spanning\n",
        "over several lines\"\"\"   #only triple quotes consider several lines\n",
        "print(string3)\n",
        "\n",
        "string4=\"\"\"I am a string \\\n",
        "which is spanning \\\n",
        "over several lines\"\"\"   #\\ - only in one line\n",
        "print(string4)"
      ],
      "metadata": {
        "colab": {
          "base_uri": "https://localhost:8080/"
        },
        "id": "_we9qYcyQxAE",
        "outputId": "591eb23f-7aca-43b9-e785-d7e75b2c9f52"
      },
      "execution_count": null,
      "outputs": [
        {
          "output_type": "stream",
          "name": "stdout",
          "text": [
            "I am a\n",
            "string\n",
            "in several lines\n",
            "1.oil\t 2.Flour\t 3.Bake\t 4.Oven\n",
            "\n",
            "Donald Trump said \"It's going to be huge\".\n",
            "Donald Trump said \"It's going to be huge\".\n",
            "Donald Trump said \"It's going to be huge\".\n",
            "\n",
            "I am a string\n",
            "which is spanning\n",
            "over several lines\n",
            "I am a string which is spanning over several lines\n"
          ]
        }
      ]
    },
    {
      "cell_type": "code",
      "source": [
        "#C:\\Users\\temp\\new_course.pdf\n",
        "print(\"C:\\\\Users\\temp\\new_course.pdf\") #use \\ for ignore all escape sequence(\\t,\\n)\n",
        "\n",
        "print(r\"C:\\Users\\temp\\new_course.pdf\")   #r-raw string\n",
        "\n",
        "#\\a gives you a bell sound\n",
        "print(\"Hello\\b\\bWorld\")   #\\b-gives you one step back(ASCII Backspace)\n",
        "\n",
        "print(\"Hello\\fWorld\")    #\\f-gives you next page of the program(ASCII Formfeed(early python now its removed))\n",
        "\n",
        "print(\"Helloooo\\rWorld\")    #Carriage Return\n",
        "\n",
        "print(\"Hello\\vWorld\")     #\\v-vertical tab-not now in python \n",
        "#output- Hello\n",
        "#            World\n",
        "\n",
        "print(\"\\110\\145\\154\\154\\157\") #\\ooo-octal value of 110 is H in ASCII Table\n",
        "\n",
        "print(\"\\x48\\x65\\x6c\\x6f\\x20\")  #\\xhh-Hexa decimal, hh=value,x followed by value\n",
        "\n",
        "#\\uxxxx\n",
        "#\\Uxxxxxxxx-unicode -advanced\n"
      ],
      "metadata": {
        "colab": {
          "base_uri": "https://localhost:8080/"
        },
        "id": "X5tR7FvwrH-3",
        "outputId": "e8b176fb-e93a-4269-e7e5-edcb591a3f0c"
      },
      "execution_count": null,
      "outputs": [
        {
          "output_type": "stream",
          "name": "stdout",
          "text": [
            "C:\\Users\temp\n",
            "ew_course.pdf\n",
            "C:\\Users\\temp\\new_course.pdf\n",
            "Hello\b\bWorld\n",
            "Hello\fWorld\n",
            "Helloooo\rWorld\n",
            "Hello\u000bWorld\n",
            "Hello\n",
            "Helo \n"
          ]
        }
      ]
    },
    {
      "cell_type": "markdown",
      "source": [
        "**Variables and Data Types**"
      ],
      "metadata": {
        "id": "3ygWnxZWw_hZ"
      }
    },
    {
      "cell_type": "code",
      "source": [
        "#Valid Variable Names\n",
        "myvar=\"Ananthi\"\n",
        "my_var=\"Ananthi\"\n",
        "_my_var=\"Ananthi\"\n",
        "myVar=\"Ananthi\"\n",
        "MYVAR='Ananthi'\n",
        "myvar2='Ananthi'\n",
        "\n",
        "#Invalid Variable Names\n",
        "#2myvar='ananthi'\n",
        "#my-var=\"Ananthi\"\n",
        "#my var=\"Ananthi\" "
      ],
      "metadata": {
        "id": "8Y3UCkLNxE2h"
      },
      "execution_count": null,
      "outputs": []
    },
    {
      "cell_type": "code",
      "source": [
        "#type-Identify variable type\n",
        "string_1=\"Ananthi\"\n",
        "print(type(string_1))\n",
        "\n",
        "print(type(\"Ananthi\"))\n",
        "print(type(10))"
      ],
      "metadata": {
        "colab": {
          "base_uri": "https://localhost:8080/"
        },
        "id": "AjQMQJENx7tZ",
        "outputId": "7f940268-8b5a-4d0b-994f-a85f75a268d4"
      },
      "execution_count": null,
      "outputs": [
        {
          "output_type": "stream",
          "name": "stdout",
          "text": [
            "<class 'str'>\n",
            "<class 'str'>\n",
            "<class 'int'>\n"
          ]
        }
      ]
    },
    {
      "cell_type": "code",
      "source": [
        "x=\"Python\"\n",
        "y=\"is\"\n",
        "z=\"Best\"\n",
        "#these are of type 'str' so we will print like this\n",
        "print(x+\" \"+y+\" \"+z)\n",
        "print(x)\n",
        "#or assign like this\n",
        "x1,y1,z1=\"Pythonn\",\"iss\",\"besttt\" \n",
        "print(x1+\" \"+y1+\" \"+z1)\n",
        "\n",
        "#x,y,z=\"python\",\"is\",7--error (typeerror)\n",
        "\n",
        "print(x+\" is easy\")   #assign values\n",
        "\n",
        "a,b=\"me\",\"1\"\n",
        "c=a+b         #concatenate strings\n",
        "print(c)\n",
        "\n",
        "#isinstance(),issubclass()-Works in subclass like int+float is working \n",
        "#numeric data Types are:int,float,decimal,complex are working together\n",
        "#string data types str"
      ],
      "metadata": {
        "colab": {
          "base_uri": "https://localhost:8080/"
        },
        "id": "A-e6NkDDyhVg",
        "outputId": "4c51a0c0-64da-4242-ee5a-c1f8c12de466"
      },
      "execution_count": null,
      "outputs": [
        {
          "output_type": "stream",
          "name": "stdout",
          "text": [
            "Python is Best\n",
            "Python\n",
            "Pythonn iss besttt\n",
            "Python is easy\n",
            "me1\n"
          ]
        }
      ]
    },
    {
      "cell_type": "markdown",
      "source": [
        "Data Types in python:\n",
        "\n",
        "\n",
        "*   Numeric(int,float,complex)\n",
        "*   Iterator\n",
        "*   Sequence(which are also iterators)\n",
        "*   Mapping\n",
        "*   File\n",
        "*   Class\n",
        "*   Exception\n",
        "\n"
      ],
      "metadata": {
        "id": "xwZNP6G32A5t"
      }
    },
    {
      "cell_type": "code",
      "source": [
        "#numeric \n",
        "a=12\n",
        "b=3\n",
        "print(a*b)"
      ],
      "metadata": {
        "colab": {
          "base_uri": "https://localhost:8080/"
        },
        "id": "LE5NsOQD08j_",
        "outputId": "da9be4c6-b8d7-429a-a975-26ef388bd553"
      },
      "execution_count": null,
      "outputs": [
        {
          "output_type": "stream",
          "name": "stdout",
          "text": [
            "36\n"
          ]
        }
      ]
    },
    {
      "cell_type": "code",
      "source": [
        "a=12\n",
        "b=3\n",
        "for i in range(0,6):\n",
        "     print(i)\n",
        "print(\"empty space\")\n",
        "for i in range(3,6):\n",
        "  print(i)\n",
        "print(\"empty space\")\n",
        "for i in range(0,a//b):\n",
        "  print(i)"
      ],
      "metadata": {
        "colab": {
          "base_uri": "https://localhost:8080/"
        },
        "id": "WNrfl1vz3eG8",
        "outputId": "13d5ddad-b233-45a9-d478-9961b7567163"
      },
      "execution_count": null,
      "outputs": [
        {
          "output_type": "stream",
          "name": "stdout",
          "text": [
            "0\n",
            "1\n",
            "2\n",
            "3\n",
            "4\n",
            "5\n",
            "empty space\n",
            "3\n",
            "4\n",
            "5\n",
            "empty space\n",
            "0\n",
            "1\n",
            "2\n",
            "3\n"
          ]
        }
      ]
    },
    {
      "cell_type": "code",
      "source": [
        "#Str Datatype in Python(Indexing)\n",
        "string=\"Python is Best\"\n",
        "print(string[0],'\\n')\n",
        "\n",
        "#print tyn\n",
        "print(string[2])\n",
        "print(string[1])\n",
        "print(string[5],'\\n')\n",
        "\n",
        "#print all in Loop\n",
        "for i in string:\n",
        "  print(i)\n",
        "print()\n",
        "\n",
        "#Reverse\n",
        "print(string[-1]) \n",
        "print()    \n",
        "\n",
        "#print tyn-total letters 14-> so if you want print tyn include -14 for all\n",
        "print(string[2-14])\n",
        "print(string[1-14])\n",
        "print(string[5-14],'\\n')\n",
        "\n",
        "#if string is empty there is no indexing at all-Ex: str=\"\"--->print(str[0])--->It will show an error because specifically asking index"
      ],
      "metadata": {
        "colab": {
          "base_uri": "https://localhost:8080/"
        },
        "id": "jgKJJJulYu4H",
        "outputId": "d7f98397-faec-4fec-c067-6a192cffe52d"
      },
      "execution_count": 19,
      "outputs": [
        {
          "output_type": "stream",
          "name": "stdout",
          "text": [
            "P \n",
            "\n",
            "t\n",
            "y\n",
            "n \n",
            "\n",
            "P\n",
            "y\n",
            "t\n",
            "h\n",
            "o\n",
            "n\n",
            " \n",
            "i\n",
            "s\n",
            " \n",
            "B\n",
            "e\n",
            "s\n",
            "t\n",
            "\n",
            "t\n",
            "\n",
            "t\n",
            "y\n",
            "n \n",
            "\n"
          ]
        }
      ]
    },
    {
      "cell_type": "markdown",
      "source": [
        "**Basic Python Questions**\n",
        "\n",
        "\n",
        "1.   Byte code gets compiled by_____\n",
        "     Ans: Virtual Machine\n",
        "2.   A variable that refers to memory that has been freed is called a ___ Ans: Dangling Pointer\n",
        "3.  Python was released in which year?Ans: 1991\n",
        "4. Who is known as the father of Python programming language? Ans: Guido van Rossum\n",
        "5. Files that store python source code are extended with____Ans: py\n",
        "6. Which of the following is not an application of Python? Ans: Python is used for Machine Learning, Graphical User Interface as well as Web Development.\n",
        "7. Which language is the predecessor of Python? Ans: ABC\n",
        "8. What converts binary instructions into specific machine instruction?Ans: Virtual Machine\n",
        "9. Which implementation of Python uses Common Runtime Machine?Ans: Iron Python\n",
        "10. Converting high level language into low level language is called____\n",
        "Ans: Compiling\n",
        "11. ______is the native instruction code for Python Virtual Machine.Ans: Byte Code\n",
        "12. Which of the following is not a valid python version?Ans: PyPyPython\n",
        "13. Which of the following is not a general purpose programming language: Ans: Prolog is used for developing complex applications mainly in AI.\n",
        "14. Which code is the same for all machines?Ans: Bytecode is same in all machines\n",
        "15. Which language uses bytecode to execute the program.Ans: Java\n",
        "16. __________is a set of instructions that directly gets executed by the CPU.Ans: Machine Code\n",
        "17. Which of the following is faster programming language:Ans: C++\n",
        "18.  Which of the following programming languages we do not need to declare variable type:Ans: Python\n",
        "19. Which of the following programming languages does not support object-oriented programming model:Ans: C Programming\n",
        "20. Which of the following programming languages does not support pointers: Ans: Python\n",
        "\n",
        "\n",
        "\n",
        "\n",
        "\n",
        "\n",
        "\n"
      ],
      "metadata": {
        "id": "PZv-rRkofZXn"
      }
    },
    {
      "cell_type": "markdown",
      "source": [
        "1. Python is named after _____Ans: monty python flying circus (BBC comedy series from the 1970s)\n",
        "2. Which of the following is statically typed?Ans: C++(Statically typed is a programming language characteristic in which variable types are explicitly declared and thus are determined at compile time.)\n",
        "3. Which of the following programming languages has simpler syntax?Ans: Python(In Python programming language we don't need to initialize variable type, nothing is required to end the line.)\n",
        "4. Which of the following types of languages are slower?Ans:Interpreter Programming Language(In Interpreter Programming Languages it must analyze each statement in the program each time it is executed and then perform the desired action)\n",
        "5. Is Python case sensitive when dealing with identifiers? Ans: Yes\n",
        "6. What is the maximum possible length of an identifier? Ans: 79 Characters\n",
        "7. Which of the following is not a keyword?Pass,non local,assert,eval\n",
        "Ans:eval\n",
        "8. All keywords in Python are in ___Ans:Python can have keywords as lowercase, uppercase as well as capitalized.\n",
        "9. Which of the following are not a parameter to the built-in print function in Python?file,delimiter,sep,end Ans:delimiter\n",
        "10. What will be the output of following code:\n",
        ">>> print (r\"\\nprep/ninsta\") Ans:\\nprep/ninsta\n",
        "11. What will be the output of following code:\n",
        "print(0xE + 0xF + 0xD) Ans: 42\n",
        "12. What will be the output of the following code?\n",
        ">>> print(\"Hello {name1}{name2}\".format(name1='dear', name2='prepster'))\n",
        "Ans: Hello dear prepster\n",
        "13. What will be the output of the following Python code?\n",
        ">>> print(“The sum of {0:b} and {1:x} is {2:o}”.format(12, 1, 10))\n",
        "Ans:The sum of 1100 is 1 is 12\n",
        "14. What will be the output of the following Python code?\n",
        ">>> print(\"Hello {0!r} and {0!s}\".format('Prep', 'insta'))\n",
        "Ans: Hello 'Prep'Prep\n",
        "15. What will be the output of the following Python code?\n",
        ">>> print('{:,}'.format('2221114443'))\n",
        "Ans: error\n",
        "16. What will be the output of the following Python code?\n",
        ">>> print('{:#}'.format(2221114443))\n",
        "Ans:2221114443\n",
        "17. What will be the output of the following Python code?\n",
        ">>> print('{:$}'.format(4445552221))\n",
        "Ans:error\n",
        "18.  What will be the output of the following Python code?\n",
        ">>> print(\"Hello {0[0]} and {0[1]}\".format(('prep', 'insta')))\n",
        "Ans: Hello prep and insta"
      ],
      "metadata": {
        "id": "g2c_P9NYjuCm"
      }
    },
    {
      "cell_type": "markdown",
      "source": [
        "**Slicing in Python**"
      ],
      "metadata": {
        "id": "Aw197p6FsEEX"
      }
    },
    {
      "cell_type": "code",
      "source": [],
      "metadata": {
        "id": "Gkajq2tMr9D0"
      },
      "execution_count": null,
      "outputs": []
    }
  ]
}