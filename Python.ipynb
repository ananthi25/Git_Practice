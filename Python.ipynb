{
  "nbformat": 4,
  "nbformat_minor": 0,
  "metadata": {
    "colab": {
      "provenance": [],
      "authorship_tag": "ABX9TyP0nafblkjJVkKpqX+Q0Uwi",
      "include_colab_link": true
    },
    "kernelspec": {
      "name": "python3",
      "display_name": "Python 3"
    },
    "language_info": {
      "name": "python"
    }
  },
  "cells": [
    {
      "cell_type": "markdown",
      "metadata": {
        "id": "view-in-github",
        "colab_type": "text"
      },
      "source": [
        "<a href=\"https://colab.research.google.com/github/ananthi25/Git_Practice/blob/main/Python.ipynb\" target=\"_parent\"><img src=\"https://colab.research.google.com/assets/colab-badge.svg\" alt=\"Open In Colab\"/></a>"
      ]
    },
    {
      "cell_type": "markdown",
      "source": [
        "###**Python Basics**"
      ],
      "metadata": {
        "id": "prabYY_ZKEOc"
      }
    },
    {
      "cell_type": "code",
      "execution_count": null,
      "metadata": {
        "colab": {
          "base_uri": "https://localhost:8080/"
        },
        "id": "QzMbNIggJL8t",
        "outputId": "07a86723-25a3-4fdd-b4be-fd2b3b9118d0"
      },
      "outputs": [
        {
          "output_type": "stream",
          "name": "stdout",
          "text": [
            "Hello World\n"
          ]
        }
      ],
      "source": [
        "#First Program\n",
        "print(\"Hello World\")"
      ]
    },
    {
      "cell_type": "markdown",
      "source": [
        "**Printing in Python**"
      ],
      "metadata": {
        "id": "frbNbxaSwSvy"
      }
    },
    {
      "cell_type": "code",
      "source": [
        "#Printing in Python\n",
        "print('Hi Ananthi')\n",
        "print(2+1)\n",
        "print(10*3.5)\n",
        "print()\n",
        "print(\"Hi\",\"My\",\"Name\",\"is\",\"Ananthi\",25)  #By default. it takes one space\n",
        "print(\"Hi\",\"My\",\"Name\",\"is\",\"Ananthi\",sep='_')\n",
        "print(\"Hi\",\"My\",\"Name\",\"is\",\"Ananthi\",end='@@')\n",
        "print(\"Next Line\")\n",
        "print(\"Hi\",\"My\",\"Name\",\"is\",\"Ananthi\",end='\\n')\n",
        "print(\"Next Line\")\n",
        "print()\n",
        "print(\"Hi\",\"My\",\"Name\",\"is\",\"Ananthi\",end='@@\\n',sep='_')  #single Line\n",
        "print(\"Next Line\")"
      ],
      "metadata": {
        "colab": {
          "base_uri": "https://localhost:8080/"
        },
        "id": "eoFX1ynVLMiv",
        "outputId": "3427ae1e-bca3-470c-87ba-5439763e9adc"
      },
      "execution_count": null,
      "outputs": [
        {
          "output_type": "stream",
          "name": "stdout",
          "text": [
            "Hi Ananthi\n",
            "3\n",
            "35.0\n",
            "\n",
            "Hi My Name is Ananthi 25\n",
            "Hi_My_Name_is_Ananthi\n",
            "Hi My Name is Ananthi@@Next Line\n",
            "Hi My Name is Ananthi\n",
            "Next Line\n",
            "\n",
            "Hi_My_Name_is_Ananthi@@\n",
            "Next Line\n"
          ]
        }
      ]
    },
    {
      "cell_type": "markdown",
      "source": [
        "**Working With Strings and input in Python**"
      ],
      "metadata": {
        "id": "ud0KVV92wX0H"
      }
    },
    {
      "cell_type": "code",
      "source": [
        "#Working With Strings and input in Python\n",
        "print(\"Python is Easy to Learn\")\n",
        "print('Easy to Use')\n",
        "print('I \"Personally\" am loving it a lot')\n",
        "print(\"It's easy to include 'single quotes' also\")\n",
        "\n",
        "#This is a comment\n",
        "#Input From User\n",
        "Variable=\"Your Name is:\"\n",
        "name=\"Ananthi\"\n",
        "print(Variable+\" \"+name)\n",
        "\n",
        "Variable=\"Your Name is:\"\n",
        "name=input(\"Enter Your name: \")\n",
        "print(Variable+\" \"+name)"
      ],
      "metadata": {
        "colab": {
          "base_uri": "https://localhost:8080/"
        },
        "id": "CUoSQFANN82X",
        "outputId": "6494991b-59c4-496a-af4f-4afb634f98b9"
      },
      "execution_count": null,
      "outputs": [
        {
          "output_type": "stream",
          "name": "stdout",
          "text": [
            "Python is Easy to Learn\n",
            "Easy to Use\n",
            "I \"Personally\" am loving it a lot\n",
            "It's easy to include 'single quotes' also\n",
            "Your Name is: Ananthi\n",
            "Enter Your name: A\n",
            "Your Name is: A\n"
          ]
        }
      ]
    },
    {
      "cell_type": "markdown",
      "source": [
        "**Escape Sequence or Characters**"
      ],
      "metadata": {
        "id": "VLzfDJutwbeG"
      }
    },
    {
      "cell_type": "code",
      "source": [
        "#Escape Sequence or Characters\n",
        "#\\n gives you new line\n",
        "string1=\"I am a\\nstring\\nin several lines\"\n",
        "print(string1)\n",
        "\n",
        "#\\t gives few empty space(tabs)\n",
        "string2=\"1.oil\\t 2.Flour\\t 3.Bake\\t 4.Oven\\n\"\n",
        "print(string2)\n",
        "\n",
        "#\\',\\\",'''\n",
        "print('Donald Trump said \"It\\'s going to be huge\".')     #single quote inside single quote\n",
        "print(\"Donald Trump said \\\"It's going to be huge\\\".\")    #double quotes inside double quotes\n",
        "print('''Donald Trump said \"It's going to be huge\".\\n''')  #Triple Quotes-No Problem for any quotes\n",
        "\n",
        "string3=\"\"\"I am a string\n",
        "which is spanning\n",
        "over several lines\"\"\"   #only triple quotes consider several lines\n",
        "print(string3)\n",
        "\n",
        "string4=\"\"\"I am a string \\\n",
        "which is spanning \\\n",
        "over several lines\"\"\"   #\\ - only in one line\n",
        "print(string4)"
      ],
      "metadata": {
        "colab": {
          "base_uri": "https://localhost:8080/"
        },
        "id": "_we9qYcyQxAE",
        "outputId": "591eb23f-7aca-43b9-e785-d7e75b2c9f52"
      },
      "execution_count": null,
      "outputs": [
        {
          "output_type": "stream",
          "name": "stdout",
          "text": [
            "I am a\n",
            "string\n",
            "in several lines\n",
            "1.oil\t 2.Flour\t 3.Bake\t 4.Oven\n",
            "\n",
            "Donald Trump said \"It's going to be huge\".\n",
            "Donald Trump said \"It's going to be huge\".\n",
            "Donald Trump said \"It's going to be huge\".\n",
            "\n",
            "I am a string\n",
            "which is spanning\n",
            "over several lines\n",
            "I am a string which is spanning over several lines\n"
          ]
        }
      ]
    },
    {
      "cell_type": "code",
      "source": [
        "#C:\\Users\\temp\\new_course.pdf\n",
        "print(\"C:\\\\Users\\temp\\new_course.pdf\") #use \\ for ignore all escape sequence(\\t,\\n)\n",
        "\n",
        "print(r\"C:\\Users\\temp\\new_course.pdf\")   #r-raw string\n",
        "\n",
        "#\\a gives you a bell sound\n",
        "print(\"Hello\\b\\bWorld\")   #\\b-gives you one step back(ASCII Backspace)\n",
        "\n",
        "print(\"Hello\\fWorld\")    #\\f-gives you next page of the program(ASCII Formfeed(early python now its removed))\n",
        "\n",
        "print(\"Helloooo\\rWorld\")    #Carriage Return\n",
        "\n",
        "print(\"Hello\\vWorld\")     #\\v-vertical tab-not now in python \n",
        "#output- Hello\n",
        "#            World\n",
        "\n",
        "print(\"\\110\\145\\154\\154\\157\") #\\ooo-octal value of 110 is H in ASCII Table\n",
        "\n",
        "print(\"\\x48\\x65\\x6c\\x6f\\x20\")  #\\xhh-Hexa decimal, hh=value,x followed by value\n",
        "\n",
        "#\\uxxxx\n",
        "#\\Uxxxxxxxx-unicode -advanced\n"
      ],
      "metadata": {
        "colab": {
          "base_uri": "https://localhost:8080/"
        },
        "id": "X5tR7FvwrH-3",
        "outputId": "e8b176fb-e93a-4269-e7e5-edcb591a3f0c"
      },
      "execution_count": null,
      "outputs": [
        {
          "output_type": "stream",
          "name": "stdout",
          "text": [
            "C:\\Users\temp\n",
            "ew_course.pdf\n",
            "C:\\Users\\temp\\new_course.pdf\n",
            "Hello\b\bWorld\n",
            "Hello\fWorld\n",
            "Helloooo\rWorld\n",
            "Hello\u000bWorld\n",
            "Hello\n",
            "Helo \n"
          ]
        }
      ]
    },
    {
      "cell_type": "markdown",
      "source": [
        "**Variables and Data Types**"
      ],
      "metadata": {
        "id": "3ygWnxZWw_hZ"
      }
    },
    {
      "cell_type": "code",
      "source": [
        "#Valid Variable Names\n",
        "myvar=\"Ananthi\"\n",
        "my_var=\"Ananthi\"\n",
        "_my_var=\"Ananthi\"\n",
        "myVar=\"Ananthi\"\n",
        "MYVAR='Ananthi'\n",
        "myvar2='Ananthi'\n",
        "\n",
        "#Invalid Variable Names\n",
        "#2myvar='ananthi'\n",
        "#my-var=\"Ananthi\"\n",
        "#my var=\"Ananthi\" "
      ],
      "metadata": {
        "id": "8Y3UCkLNxE2h"
      },
      "execution_count": null,
      "outputs": []
    },
    {
      "cell_type": "code",
      "source": [
        "#type-Identify variable type\n",
        "string_1=\"Ananthi\"\n",
        "print(type(string_1))\n",
        "\n",
        "print(type(\"Ananthi\"))\n",
        "print(type(10))"
      ],
      "metadata": {
        "colab": {
          "base_uri": "https://localhost:8080/"
        },
        "id": "AjQMQJENx7tZ",
        "outputId": "7f940268-8b5a-4d0b-994f-a85f75a268d4"
      },
      "execution_count": null,
      "outputs": [
        {
          "output_type": "stream",
          "name": "stdout",
          "text": [
            "<class 'str'>\n",
            "<class 'str'>\n",
            "<class 'int'>\n"
          ]
        }
      ]
    },
    {
      "cell_type": "code",
      "source": [
        "x=\"Python\"\n",
        "y=\"is\"\n",
        "z=\"Best\"\n",
        "#these are of type 'str' so we will print like this\n",
        "print(x+\" \"+y+\" \"+z)\n",
        "print(x)\n",
        "#or assign like this\n",
        "x1,y1,z1=\"Pythonn\",\"iss\",\"besttt\" \n",
        "print(x1+\" \"+y1+\" \"+z1)\n",
        "\n",
        "#x,y,z=\"python\",\"is\",7--error (typeerror)\n",
        "\n",
        "print(x+\" is easy\")   #assign values\n",
        "\n",
        "a,b=\"me\",\"1\"\n",
        "c=a+b         #concatenate strings\n",
        "print(c)\n",
        "\n",
        "#isinstance(),issubclass()-Works in subclass like int+float is working \n",
        "#numeric data Types are:int,float,decimal,complex are working together\n",
        "#string data types str"
      ],
      "metadata": {
        "colab": {
          "base_uri": "https://localhost:8080/"
        },
        "id": "A-e6NkDDyhVg",
        "outputId": "4c51a0c0-64da-4242-ee5a-c1f8c12de466"
      },
      "execution_count": null,
      "outputs": [
        {
          "output_type": "stream",
          "name": "stdout",
          "text": [
            "Python is Best\n",
            "Python\n",
            "Pythonn iss besttt\n",
            "Python is easy\n",
            "me1\n"
          ]
        }
      ]
    },
    {
      "cell_type": "markdown",
      "source": [
        "Data Types in python:\n",
        "\n",
        "\n",
        "*   Numeric(int,float,complex)\n",
        "*   Iterator\n",
        "*   Sequence(which are also iterators)\n",
        "*   Mapping\n",
        "*   File\n",
        "*   Class\n",
        "*   Exception\n",
        "\n"
      ],
      "metadata": {
        "id": "xwZNP6G32A5t"
      }
    },
    {
      "cell_type": "code",
      "source": [
        "#numeric \n",
        "a=12\n",
        "b=3\n",
        "print(a*b)"
      ],
      "metadata": {
        "colab": {
          "base_uri": "https://localhost:8080/"
        },
        "id": "LE5NsOQD08j_",
        "outputId": "da9be4c6-b8d7-429a-a975-26ef388bd553"
      },
      "execution_count": null,
      "outputs": [
        {
          "output_type": "stream",
          "name": "stdout",
          "text": [
            "36\n"
          ]
        }
      ]
    },
    {
      "cell_type": "code",
      "source": [
        "a=12\n",
        "b=3\n",
        "for i in range(0,6):\n",
        "     print(i)\n",
        "print(\"empty space\")\n",
        "for i in range(3,6):\n",
        "  print(i)\n",
        "print(\"empty space\")\n",
        "for i in range(0,a//b):\n",
        "  print(i)"
      ],
      "metadata": {
        "colab": {
          "base_uri": "https://localhost:8080/"
        },
        "id": "WNrfl1vz3eG8",
        "outputId": "13d5ddad-b233-45a9-d478-9961b7567163"
      },
      "execution_count": null,
      "outputs": [
        {
          "output_type": "stream",
          "name": "stdout",
          "text": [
            "0\n",
            "1\n",
            "2\n",
            "3\n",
            "4\n",
            "5\n",
            "empty space\n",
            "3\n",
            "4\n",
            "5\n",
            "empty space\n",
            "0\n",
            "1\n",
            "2\n",
            "3\n"
          ]
        }
      ]
    },
    {
      "cell_type": "code",
      "source": [
        "#Str Datatype in Python(Indexing)\n",
        "string=\"Python is Best\"\n",
        "print(string[0],'\\n')\n",
        "\n",
        "#print tyn\n",
        "print(string[2])\n",
        "print(string[1])\n",
        "print(string[5],'\\n')\n",
        "\n",
        "#print all in Loop\n",
        "for i in string:\n",
        "  print(i)\n",
        "print()\n",
        "\n",
        "#Reverse\n",
        "print(string[-1]) \n",
        "print()    \n",
        "\n",
        "#print tyn-total letters 14-> so if you want print tyn include -14 for all\n",
        "print(string[2-14])\n",
        "print(string[1-14])\n",
        "print(string[5-14],'\\n')\n",
        "\n",
        "#if string is empty there is no indexing at all-Ex: str=\"\"--->print(str[0])--->It will show an error because specifically asking index"
      ],
      "metadata": {
        "colab": {
          "base_uri": "https://localhost:8080/"
        },
        "id": "jgKJJJulYu4H",
        "outputId": "d7f98397-faec-4fec-c067-6a192cffe52d"
      },
      "execution_count": null,
      "outputs": [
        {
          "output_type": "stream",
          "name": "stdout",
          "text": [
            "P \n",
            "\n",
            "t\n",
            "y\n",
            "n \n",
            "\n",
            "P\n",
            "y\n",
            "t\n",
            "h\n",
            "o\n",
            "n\n",
            " \n",
            "i\n",
            "s\n",
            " \n",
            "B\n",
            "e\n",
            "s\n",
            "t\n",
            "\n",
            "t\n",
            "\n",
            "t\n",
            "y\n",
            "n \n",
            "\n"
          ]
        }
      ]
    },
    {
      "cell_type": "markdown",
      "source": [
        "**Basic Python Questions**\n",
        "\n",
        "\n",
        "1.   Byte code gets compiled by_____\n",
        "     Ans: Virtual Machine\n",
        "2.   A variable that refers to memory that has been freed is called a ___ Ans: Dangling Pointer\n",
        "3.  Python was released in which year?Ans: 1991\n",
        "4. Who is known as the father of Python programming language? Ans: Guido van Rossum\n",
        "5. Files that store python source code are extended with____Ans: py\n",
        "6. Which of the following is not an application of Python? Ans: Python is used for Machine Learning, Graphical User Interface as well as Web Development.\n",
        "7. Which language is the predecessor of Python? Ans: ABC\n",
        "8. What converts binary instructions into specific machine instruction?Ans: Virtual Machine\n",
        "9. Which implementation of Python uses Common Runtime Machine?Ans: Iron Python\n",
        "10. Converting high level language into low level language is called____Ans: Compiling\n",
        "11. ______is the native instruction code for Python Virtual Machine.Ans: Byte Code\n",
        "12. Which of the following is not a valid python version?Ans: PyPyPython\n",
        "13. Which of the following is not a general purpose programming language: Ans: Prolog is used for developing complex applications mainly in AI.\n",
        "14. Which code is the same for all machines?Ans: Bytecode is same in all machines\n",
        "15. Which language uses bytecode to execute the program.Ans: Java\n",
        "16. __________is a set of instructions that directly gets executed by the CPU.Ans: Machine Code\n",
        "17. Which of the following is faster programming language:Ans: C++\n",
        "18.  Which of the following programming languages we do not need to declare variable type:Ans: Python\n",
        "19. Which of the following programming languages does not support object-oriented programming model:Ans: C Programming\n",
        "20. Which of the following programming languages does not support pointers: Ans: Python\n",
        "\n",
        "\n",
        "\n",
        "\n",
        "\n",
        "\n",
        "\n"
      ],
      "metadata": {
        "id": "PZv-rRkofZXn"
      }
    },
    {
      "cell_type": "markdown",
      "source": [
        "1. Python is named after _____Ans: monty python flying circus (BBC comedy series from the 1970s)\n",
        "2. Which of the following is statically typed?Ans: C++(Statically typed is a programming language characteristic in which variable types are explicitly declared and thus are determined at compile time.)\n",
        "3. Which of the following programming languages has simpler syntax?Ans: Python(In Python programming language we don't need to initialize variable type, nothing is required to end the line.)\n",
        "4. Which of the following types of languages are slower?Ans:Interpreter Programming Language(In Interpreter Programming Languages it must analyze each statement in the program each time it is executed and then perform the desired action)\n",
        "5. Is Python case sensitive when dealing with identifiers? Ans: Yes\n",
        "6. What is the maximum possible length of an identifier? Ans: 79 Characters\n",
        "7. Which of the following is not a keyword?Pass,non local,assert,eval\n",
        "Ans:eval\n",
        "8. All keywords in Python are in ___Ans:Python can have keywords as lowercase, uppercase as well as capitalized.\n",
        "9. Which of the following are not a parameter to the built-in print function in Python?file,delimiter,sep,end Ans:delimiter\n",
        "10. What will be the output of following code:\n",
        ">>> print (r\"\\nprep/ninsta\") Ans:\\nprep/ninsta\n",
        "11. What will be the output of following code:\n",
        "print(0xE + 0xF + 0xD) Ans: 42\n",
        "12. What will be the output of the following code?\n",
        ">>> print(\"Hello {name1}{name2}\".format(name1='dear', name2='prepster'))\n",
        "Ans: Hello dear prepster\n",
        "13. What will be the output of the following Python code?\n",
        ">>> print(“The sum of {0:b} and {1:x} is {2:o}”.format(12, 1, 10))\n",
        "Ans:The sum of 1100 is 1 is 12\n",
        "14. What will be the output of the following Python code?\n",
        ">>> print(\"Hello {0!r} and {0!s}\".format('Prep', 'insta'))\n",
        "Ans: Hello 'Prep'Prep\n",
        "15. What will be the output of the following Python code?\n",
        ">>> print('{:,}'.format('2221114443'))\n",
        "Ans: error\n",
        "16. What will be the output of the following Python code?\n",
        ">>> print('{:#}'.format(2221114443))\n",
        "Ans:2221114443\n",
        "17. What will be the output of the following Python code?\n",
        ">>> print('{:$}'.format(4445552221))\n",
        "Ans:error\n",
        "18.  What will be the output of the following Python code?\n",
        ">>> print(\"Hello {0[0]} and {0[1]}\".format(('prep', 'insta')))\n",
        "Ans: Hello prep and insta"
      ],
      "metadata": {
        "id": "g2c_P9NYjuCm"
      }
    },
    {
      "cell_type": "markdown",
      "source": [
        "**Slicing in Python**"
      ],
      "metadata": {
        "id": "Aw197p6FsEEX"
      }
    },
    {
      "cell_type": "code",
      "source": [
        "string=\"Python Course\"\n",
        "print(string[0:4])\n",
        "print(string[5:11])\n",
        "print(string[:6])\n",
        "print(string[:13])\n",
        "print(string[7:])\n",
        "\n",
        "print(string[:6]+string[6:])\n",
        "\n",
        "print(string[-1])\n",
        "print(string[-5:2])   #cannot print in backward direction\n",
        "print(string[-5:-2])  #only in Forward direction\n",
        "print(string[-5:11])"
      ],
      "metadata": {
        "id": "Gkajq2tMr9D0",
        "colab": {
          "base_uri": "https://localhost:8080/"
        },
        "outputId": "724d8c61-5647-4eae-bb0a-9f57ac03c743"
      },
      "execution_count": null,
      "outputs": [
        {
          "output_type": "stream",
          "name": "stdout",
          "text": [
            "Pyth\n",
            "n Cour\n",
            "Python\n",
            "Python Course\n",
            "Course\n",
            "Python Course\n",
            "e\n",
            "\n",
            "our\n",
            "our\n"
          ]
        }
      ]
    },
    {
      "cell_type": "code",
      "source": [
        "#Step Slicing\n",
        "string=\"Python Course\"\n",
        "print(string[0:13])\n",
        "\n",
        "print(string[0:13:2])    #var[start:end:step]---> step=2 means printing first letter followed by every second letter \n",
        "print(string[0:13:4])    #every 4th letter\n",
        "print()\n",
        "\n",
        "number=\"1,234,786,903,349,675,287\"\n",
        "print(number[1::4]) \n",
        "number1=\"1,234:786;903 349:675;287\"\n",
        "sep=number1[1::4]\n",
        "print(sep)\n",
        "\n",
        "values=\"\".join(char if char not in sep else \" \" for char in number1).split()      #print characters only\n",
        "print([int(val) for val in values])"
      ],
      "metadata": {
        "colab": {
          "base_uri": "https://localhost:8080/"
        },
        "id": "ue5r8OA_vsf-",
        "outputId": "61d65e68-58e6-4395-b612-6c8992839f85"
      },
      "execution_count": null,
      "outputs": [
        {
          "output_type": "stream",
          "name": "stdout",
          "text": [
            "Python Course\n",
            "Pto ore\n",
            "Pooe\n",
            "\n",
            ",,,,,,\n",
            ",:; :;\n",
            "[1, 234, 786, 903, 349, 675, 287]\n"
          ]
        }
      ]
    },
    {
      "cell_type": "code",
      "source": [
        "#Backward Slicing\n",
        "alphabets=\"abcdefghijklmnopqrstuvwxyz\"\n",
        "print(alphabets[0:26])\n",
        "print(alphabets[0:26:2])\n",
        "\n",
        "#Reverse\n",
        "print(alphabets[0:26:-1])  #doesn't work\n",
        "\n",
        "print(alphabets[25:0:-1])  #starting from 25(Last letter),ending in 0(a),-1 is backward direction\n",
        "print(alphabets[25::-1])\n",
        "print(alphabets[26::-2]) \n",
        "print(alphabets[-1::-1]) \n",
        "\n",
        "print(len(alphabets))\n",
        "print(len(alphabets[0:20]))"
      ],
      "metadata": {
        "colab": {
          "base_uri": "https://localhost:8080/"
        },
        "id": "Ir9o5ec8CY7y",
        "outputId": "6c913e19-5f36-4e03-d201-57e03aa93896"
      },
      "execution_count": null,
      "outputs": [
        {
          "output_type": "stream",
          "name": "stdout",
          "text": [
            "abcdefghijklmnopqrstuvwxyz\n",
            "acegikmoqsuwy\n",
            "\n",
            "zyxwvutsrqponmlkjihgfedcb\n",
            "zyxwvutsrqponmlkjihgfedcba\n",
            "zxvtrpnljhfdb\n",
            "zyxwvutsrqponmlkjihgfedcba\n",
            "26\n",
            "20\n"
          ]
        }
      ]
    },
    {
      "cell_type": "code",
      "source": [
        "#Important Slicing \n",
        "alphabets=\"abcdefghijklmnopqrstuvwxyz\"\n",
        "#mno\n",
        "#onm\n",
        "#ehkn\n",
        "#nkhe\n",
        "#abcdefgh\n",
        "#last 20 characters in backward direction \n",
        "#first 20 characters\n",
        "\n",
        "#mno\n",
        "print(alphabets[12:15])\n",
        "print(alphabets[-14:-11])\n",
        "print()\n",
        "#onm\n",
        "print(alphabets[14:11:-1]) \n",
        "print(alphabets[-12:-15:-1])\n",
        "print(alphabets[-12:11:-1])\n",
        "print(alphabets[14:-15:-1])\n",
        "print()\n",
        "#ehkn\n",
        "print(alphabets[4:15:3])\n",
        "print(alphabets[-22:-10:3])\n",
        "print()\n",
        "#nkhe\n",
        "print(alphabets[13:3:-3])\n",
        "print(alphabets[-13:3:-3])\n",
        "print(alphabets[-13:-23:-3])\n",
        "print()\n",
        "#abcdefgh\n",
        "print(alphabets[0:8])\n",
        "print(alphabets[-26:8])\n",
        "print(alphabets[-26:-18])\n",
        "print()\n",
        "#last 20\n",
        "print(alphabets[26:-21:-1])\n",
        "print(alphabets[-1:-21:-1])\n",
        "print(alphabets[25:5:-1])\n",
        "print()\n",
        "#first 20\n",
        "print(alphabets[:20]) \n",
        "print()\n",
        "#length\n",
        "print(len(alphabets))\n",
        "print(len(alphabets[0:20]))"
      ],
      "metadata": {
        "colab": {
          "base_uri": "https://localhost:8080/"
        },
        "id": "dxB3OXXAH6gD",
        "outputId": "e5ed0b48-f133-46b2-938c-25b2c07b11b9"
      },
      "execution_count": null,
      "outputs": [
        {
          "output_type": "stream",
          "name": "stdout",
          "text": [
            "mno\n",
            "mno\n",
            "\n",
            "onm\n",
            "onm\n",
            "onm\n",
            "onm\n",
            "\n",
            "ehkn\n",
            "ehkn\n",
            "\n",
            "nkhe\n",
            "nkhe\n",
            "nkhe\n",
            "\n",
            "abcdefgh\n",
            "abcdefgh\n",
            "abcdefgh\n",
            "\n",
            "zyxwvutsrqponmlkjihg\n",
            "zyxwvutsrqponmlkjihg\n",
            "zyxwvutsrqponmlkjihg\n",
            "\n",
            "abcdefghijklmnopqrst\n",
            "\n",
            "26\n",
            "20\n"
          ]
        }
      ]
    },
    {
      "cell_type": "markdown",
      "source": [
        "**Slicing Practice Questions**\n",
        "1. d={'a':5,'b':3,'c':2}\n",
        "s=\"\"\n",
        "for i in d.keys():\n",
        "    s+=i*d[i]\n",
        "print(s[3::-2])\n",
        "Ans:aa\n",
        "2. What will be the output of the following program?\n",
        "variable= \"Preparation in PrepInsta\"\n",
        "print(variable[23:0:-1])\n",
        "Ans:atsnIperP ni noitaraper\n",
        "3. If x=[0,1,2,3,4,5,6,7] and y=x[1:-1], what does y contain?\n",
        "Ans: [1,2,3,4,5,6]\n",
        "4. If x=range(10) and y=x[::3],what does y contain?\n",
        "Ans: [0,3,6,9]\n",
        "5. String ='ASTRING'\n",
        "s=slice(-1,-12,-2)\n",
        "print(String[s])\n",
        "Ans:GITA\n",
        "6. s=\"malayalam\"\n",
        "r=s[::2][::-1]\n",
        "print(r)\n",
        "Ans:mlylm\n",
        "7. n1 = ['chocolate', 'biscuit', 'icecream']\n",
        "n2 = [n.title() for n in n1]\n",
        "print(n2[2][0])\n",
        "Ans:i\n",
        "8. l=[3,5,7,9]\n",
        "l.append([1,2,3,4])\n",
        "print(len(l[2:]))\n",
        "Ans:3\n",
        "9. l=[3,4,3,1,2,3,7,1,7,5]\n",
        "z=sorted(l,key=l.count,reverse=True)\n",
        "print(z[1:4])\n",
        "Ans:[3,3,1]\n",
        "10. def take_second(e):\n",
        "    return e[1]\n",
        "l = [(2, 2), (3, 4), (4, 1), (1, 3)]\n",
        "sl = sorted(l, key=take_second)\n",
        "print(sl[3][1])\n",
        "Ans: 4\n",
        "11. l=[\"abab\",\"bbbbb\",\"cbbbbab\"]\n",
        "nl=[]\n",
        "for i in l:\n",
        "    nl.extend(i.split(\"b\"))\n",
        "s=list(set(nl))\n",
        "print(s[1:])\n",
        "Ans: ['c','a']\n",
        "12. l=[\"a\",\"b\",\"c\"]\n",
        "z=l*2\n",
        "print(z[1:2])\n",
        "Ans:['b']\n",
        "13. l=['x','y','z']\n",
        "s=\"\"\n",
        "for i in l:\n",
        "    s+=i*((l.index(i)+1)**2)\n",
        "print(s[3:6:2])\n",
        "Ans: yz\n",
        "14. s=\"abababacacadc\"\n",
        "x=list(s)\n",
        "z=sorted(x,key=x.count,reverse=True)\n",
        "print(z[3:7])\n",
        "Ans:['a','a','a','b']\n",
        "15. a = (\"John\", \"Charles\", \"Mike\")\n",
        "b = (\"Jenny\", \"Christy\", \"Monica\", \"Vicky\")\n",
        "x = tuple(zip(a, b))\n",
        "print(x[2][1])\n",
        "Ans: \"Monica\"\n",
        "16. l1 = [\"eat\",\"sleep\",\"repeat\"]\n",
        "a=(list(enumerate(l1)))\n",
        "print(a[1:2])\n",
        "Ans:[(1,\"sleep\")]\n",
        "17. What will be the output of the following program\n",
        "numbers= \"1,273,456,546,785,554\"\n",
        "print(numbers[1::4])\n",
        "Ans: ,,,,,\n",
        "18. What will be the output of the following program?\n",
        "\n",
        "string1= \"Prepinsta Prime\"\n",
        "print(string1[9-13])\n",
        "Ans: r\n",
        "19. What will be the output of the following program?\n",
        "string1= \"Preparation in Prepinsta\"\n",
        "print(string1[23::-3])\n",
        "Ans: ane ire\n",
        "20. What will be the output of the following program?\n",
        "\n",
        "string1= \"abcdefghijklmnopqrstuvwxyz\"\n",
        "print(string1[14::-3])\n",
        "Ans: olifc"
      ],
      "metadata": {
        "id": "ektgJuXUQ-5L"
      }
    },
    {
      "cell_type": "markdown",
      "source": [
        "**String Operator**"
      ],
      "metadata": {
        "id": "XofhtDWYRLZF"
      }
    },
    {
      "cell_type": "code",
      "source": [
        "stringA=[\"Apple\",\"Orange\",\"Mango\"]\n",
        "print(stringA)\n",
        "print(stringA[0])\n",
        "print()\n",
        "\n",
        "for i in stringA:\n",
        "  print(i)\n",
        "\n",
        "print(stringA[1][3])   #1st index 3rd char\n",
        "\n",
        "stringB=\"I am\"\n",
        "stringC=\" Ananthi\"\n",
        "print(stringB+stringC)\n",
        "\n",
        "print(stringC*3)\n",
        "print(stringC*(3+5))\n",
        "print(stringC*3+\" 5\")\n",
        "\n",
        "day=\"sunday\"\n",
        "print('day' in day)  #True\n",
        "print('suny' in day)  #False  also its Case Sensitive\n",
        "print('Day' in day)\n",
        "print(\"Aug\" in \"August\")"
      ],
      "metadata": {
        "colab": {
          "base_uri": "https://localhost:8080/"
        },
        "id": "RFymtyxgRRUb",
        "outputId": "0812debd-67bc-4890-ed15-0fc131d43ba1"
      },
      "execution_count": null,
      "outputs": [
        {
          "output_type": "stream",
          "name": "stdout",
          "text": [
            "['Apple', 'Orange', 'Mango']\n",
            "Apple\n",
            "\n",
            "Apple\n",
            "Orange\n",
            "Mango\n",
            "n\n",
            "I am Ananthi\n",
            " Ananthi Ananthi Ananthi\n",
            " Ananthi Ananthi Ananthi Ananthi Ananthi Ananthi Ananthi Ananthi\n",
            " Ananthi Ananthi Ananthi 5\n",
            "True\n",
            "False\n",
            "False\n",
            "True\n"
          ]
        }
      ]
    },
    {
      "cell_type": "markdown",
      "source": [
        "**String Replacement Fields**"
      ],
      "metadata": {
        "id": "dEuwrFjXEcY5"
      }
    },
    {
      "cell_type": "code",
      "source": [
        "weight=100\n",
        "print(\"My Weight is \"+str(weight)+\" kgs\")  #cannot add integer value inside string\n",
        "\n",
        "print(\"My weight is {0} kgs\".format(weight))  #like c-->%d,%f\n",
        "\n",
        "print(\"We have {0} days in {1},{2},{3},{4},{5},{6},{7}\".format(31,\"Jan\",'Mar','May','July','Aug','Oct','Dec'))\n",
        "\n",
        "print(\"We have {0} days in Jan,Mar,May,July,Aug,Oct,Dec\".format(31))\n",
        "\n",
        "print(\"Jan:{2}, Feb:{0}, Mar:{2}, Apr:{1}, May:{2}, June:{1}, July:{2}, August:{2}, Sep:{1}, Oct:{2}, Nov:{1}, Dec:{2}\".format(28,30,31))\n",
        "\n",
        "print('''Jan:{2}\n",
        "Feb:{0}\n",
        "Mar:{2}\n",
        "Apr:{1}\n",
        "May:{2}\n",
        "June:{1}\n",
        "July:{2}\n",
        "August:{2}\n",
        "Sep:{1}\n",
        "Oct:{2}\n",
        "Nov:{1}\n",
        "Dec:{2}'''.format(28,30,31)) #For print more beautiful"
      ],
      "metadata": {
        "colab": {
          "base_uri": "https://localhost:8080/"
        },
        "id": "NbGmRHSPEjS0",
        "outputId": "54b41001-2607-48bc-f908-9b534853668f"
      },
      "execution_count": 17,
      "outputs": [
        {
          "output_type": "stream",
          "name": "stdout",
          "text": [
            "My Weight is 100 kgs\n",
            "My weight is 100 kgs\n",
            "We have 31 days in Jan,Mar,May,July,Aug,Oct,Dec\n",
            "We have 31 days in Jan,Mar,May,July,Aug,Oct,Dec\n",
            "Jan:31, Feb:28, Mar:31, Apr:30, May:31, June:30, July:31, August:31, Sep:30, Oct:31, Nov:30, Dec:31\n",
            "Jan:31\n",
            "Feb:28\n",
            "Mar:31\n",
            "Apr:30\n",
            "May:31\n",
            "June:30\n",
            "July:31\n",
            "August:31\n",
            "Sep:30\n",
            "Oct:31\n",
            "Nov:30\n",
            "Dec:31\n"
          ]
        }
      ]
    },
    {
      "cell_type": "markdown",
      "source": [
        "**String Formatting**"
      ],
      "metadata": {
        "id": "JmiyhQb1K01P"
      }
    },
    {
      "cell_type": "code",
      "source": [
        "for i in range(1,11):\n",
        "  print(\"No.{0} squared is {1} and cubed is {2}\".format(i,i**2,i**3))\n",
        "print()\n",
        "\n",
        "for i in range(1,11):\n",
        "  print(\"No. {0:2} squared is {1:3} and cubed is {2:4}\".format(i,i**2,i**3))   #here, 2,3,4 are string or character spaces for more readable\n",
        "print()\n",
        "\n",
        "\n",
        "#using < symbol we tell out editor to left align items and ^ symbol tell to middle align items. By default we have right align\n",
        "for i in range(1,11):\n",
        "  print(\"No. {0:2} squared is {1:<3} and cubed is {2:^4}\".format(i,i**2,i**3))\n",
        "print()"
      ],
      "metadata": {
        "colab": {
          "base_uri": "https://localhost:8080/"
        },
        "id": "jIfRfnqXK4RJ",
        "outputId": "b060d856-3d4e-4abd-8307-4582bc94d805"
      },
      "execution_count": 23,
      "outputs": [
        {
          "output_type": "stream",
          "name": "stdout",
          "text": [
            "No.1 squared is 1 and cubed is 1\n",
            "No.2 squared is 4 and cubed is 8\n",
            "No.3 squared is 9 and cubed is 27\n",
            "No.4 squared is 16 and cubed is 64\n",
            "No.5 squared is 25 and cubed is 125\n",
            "No.6 squared is 36 and cubed is 216\n",
            "No.7 squared is 49 and cubed is 343\n",
            "No.8 squared is 64 and cubed is 512\n",
            "No.9 squared is 81 and cubed is 729\n",
            "No.10 squared is 100 and cubed is 1000\n",
            "\n",
            "No.  1 squared is   1 and cubed is    1\n",
            "No.  2 squared is   4 and cubed is    8\n",
            "No.  3 squared is   9 and cubed is   27\n",
            "No.  4 squared is  16 and cubed is   64\n",
            "No.  5 squared is  25 and cubed is  125\n",
            "No.  6 squared is  36 and cubed is  216\n",
            "No.  7 squared is  49 and cubed is  343\n",
            "No.  8 squared is  64 and cubed is  512\n",
            "No.  9 squared is  81 and cubed is  729\n",
            "No. 10 squared is 100 and cubed is 1000\n",
            "\n",
            "No.  1 squared is 1   and cubed is  1  \n",
            "No.  2 squared is 4   and cubed is  8  \n",
            "No.  3 squared is 9   and cubed is  27 \n",
            "No.  4 squared is 16  and cubed is  64 \n",
            "No.  5 squared is 25  and cubed is 125 \n",
            "No.  6 squared is 36  and cubed is 216 \n",
            "No.  7 squared is 49  and cubed is 343 \n",
            "No.  8 squared is 64  and cubed is 512 \n",
            "No.  9 squared is 81  and cubed is 729 \n",
            "No. 10 squared is 100 and cubed is 1000\n",
            "\n"
          ]
        }
      ]
    },
    {
      "cell_type": "markdown",
      "source": [
        "**Precision in Python**"
      ],
      "metadata": {
        "id": "rKRMH08JWqqP"
      }
    },
    {
      "cell_type": "code",
      "source": [
        "#By Default precision in Python after decimals is 15\n",
        "print(\"{0}\".format(22/7))\n",
        "print()\n",
        "\n",
        "print(\"{0:100}\".format(22/7))\n",
        "print(\"{0:<100}\".format(22/7))\n",
        "print(\"{0:0100}\".format(22/7))  #imp-must fill it with zero\n",
        "\n",
        "print(len(\"{0:100}\".format(22/7)))\n",
        "\n",
        "#if we use f then we mean after decimal points there must be 6 character after decimal\n",
        "print(\"{0:100f}\".format(22/7))\n",
        "\n",
        "#after the decimal points\n",
        "print(\"{0:.2f}\".format(22/7))\n",
        "print(\"{0:.8f}\".format(22/7))\n",
        "\n",
        "print(\"{0:100.2f}\".format(22/7))\n",
        "#Precision takes more importance than filled with\n",
        "print(\"{0:3.6f}\".format(22/7))\n",
        "\n",
        "#The max decimal Precision in Python is 51 or 52 or 53 or 54\n",
        "print(\"{0:.70f}\".format(22/7))     #additional 20 values filled with 0's "
      ],
      "metadata": {
        "colab": {
          "base_uri": "https://localhost:8080/"
        },
        "id": "04Cyw0ePWvhT",
        "outputId": "1aefa7c8-b41b-4629-b097-61e8bb897618"
      },
      "execution_count": 41,
      "outputs": [
        {
          "output_type": "stream",
          "name": "stdout",
          "text": [
            "3.142857142857143\n",
            "\n",
            "                                                                                   3.142857142857143\n",
            "3.142857142857143                                                                                   \n",
            "000000000000000000000000000000000000000000000000000000000000000000000000000000000003.142857142857143\n",
            "100\n",
            "                                                                                            3.142857\n",
            "3.14\n",
            "3.14285714\n",
            "                                                                                                3.14\n",
            "3.142857\n",
            "3.1428571428571427937015414499910548329353332519531250000000000000000000\n"
          ]
        }
      ]
    },
    {
      "cell_type": "markdown",
      "source": [
        "**FStrings**"
      ],
      "metadata": {
        "id": "2wPzwbw7d6Xm"
      }
    },
    {
      "cell_type": "code",
      "source": [
        "weight=80\n",
        "print(\"My Weight is {0} kgs\".format(weight))\n",
        "\n",
        "#To Avoid print(\"My Weight is \"+weight+\"kgs\")---->use FStrings\n",
        "print(f\"My Weight is {weight} kgs using fstring\")\n",
        "pi=22/7\n",
        "print(f\"The Value of Pi is: {pi:.50f}\")"
      ],
      "metadata": {
        "colab": {
          "base_uri": "https://localhost:8080/"
        },
        "id": "nhcFpyxed8-C",
        "outputId": "6fc5c469-416e-4d35-f5fe-a2600486ff68"
      },
      "execution_count": 47,
      "outputs": [
        {
          "output_type": "stream",
          "name": "stdout",
          "text": [
            "My Weight is 80 kgs\n",
            "My Weight is 80 kgs using fstring\n",
            "The Value of Pi is: 3.14285714285714279370154144999105483293533325195312\n"
          ]
        }
      ]
    },
    {
      "cell_type": "markdown",
      "source": [
        "**String Interpolation(Python 2)**"
      ],
      "metadata": {
        "id": "_RbMx7adfnFs"
      }
    },
    {
      "cell_type": "code",
      "source": [
        "#deprecated\n",
        "#In C, using %c,%s,%d\n",
        "weight=40\n",
        "print(\"My Weight is: %d\" %weight)\n",
        "\n",
        "name=\"Ananthi\"\n",
        "print(\"I am %s and My Weight is: %d kgs\" %(name,weight))\n",
        "\n",
        "print(\"The value of pi is %.2f\" %(22/7))"
      ],
      "metadata": {
        "colab": {
          "base_uri": "https://localhost:8080/"
        },
        "id": "4a8bvJPIfvXK",
        "outputId": "02cdb2d2-5d24-4a9b-9524-eda46a9e0d68"
      },
      "execution_count": 57,
      "outputs": [
        {
          "output_type": "stream",
          "name": "stdout",
          "text": [
            "My Weight is: 40\n",
            "I am Ananthi and My Weight is: 40 kgs\n",
            "The value of pi is 3.14\n"
          ]
        }
      ]
    }
  ]
}