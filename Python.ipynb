{
  "nbformat": 4,
  "nbformat_minor": 0,
  "metadata": {
    "colab": {
      "provenance": [],
      "authorship_tag": "ABX9TyM4s6cjMtKfhRYetYGP0tT+",
      "include_colab_link": true
    },
    "kernelspec": {
      "name": "python3",
      "display_name": "Python 3"
    },
    "language_info": {
      "name": "python"
    }
  },
  "cells": [
    {
      "cell_type": "markdown",
      "metadata": {
        "id": "view-in-github",
        "colab_type": "text"
      },
      "source": [
        "<a href=\"https://colab.research.google.com/github/ananthi25/Git_Practice/blob/main/Python.ipynb\" target=\"_parent\"><img src=\"https://colab.research.google.com/assets/colab-badge.svg\" alt=\"Open In Colab\"/></a>"
      ]
    },
    {
      "cell_type": "markdown",
      "source": [
        "###**Python Basics**"
      ],
      "metadata": {
        "id": "prabYY_ZKEOc"
      }
    },
    {
      "cell_type": "code",
      "execution_count": null,
      "metadata": {
        "colab": {
          "base_uri": "https://localhost:8080/"
        },
        "id": "QzMbNIggJL8t",
        "outputId": "6a11a73d-5bfe-4b83-d73a-5958979e62d3"
      },
      "outputs": [
        {
          "output_type": "stream",
          "name": "stdout",
          "text": [
            "Hello World\n"
          ]
        }
      ],
      "source": [
        "#First Program\n",
        "print(\"Hello World\")"
      ]
    },
    {
      "cell_type": "markdown",
      "source": [
        "**Printing in Python**"
      ],
      "metadata": {
        "id": "frbNbxaSwSvy"
      }
    },
    {
      "cell_type": "code",
      "source": [
        "#Printing in Python\n",
        "print('Hi Ananthi')\n",
        "print(2+1)\n",
        "print(10*3.5)\n",
        "print()\n",
        "print(\"Hi\",\"My\",\"Name\",\"is\",\"Ananthi\",25)  #By default. it takes one space\n",
        "print(\"Hi\",\"My\",\"Name\",\"is\",\"Ananthi\",sep='_')\n",
        "print(\"Hi\",\"My\",\"Name\",\"is\",\"Ananthi\",end='@@')\n",
        "print(\"Next Line\")\n",
        "print(\"Hi\",\"My\",\"Name\",\"is\",\"Ananthi\",end='\\n')\n",
        "print(\"Next Line\")\n",
        "print()\n",
        "print(\"Hi\",\"My\",\"Name\",\"is\",\"Ananthi\",end='@@\\n',sep='_')  #single Line\n",
        "print(\"Next Line\")"
      ],
      "metadata": {
        "colab": {
          "base_uri": "https://localhost:8080/"
        },
        "id": "eoFX1ynVLMiv",
        "outputId": "3427ae1e-bca3-470c-87ba-5439763e9adc"
      },
      "execution_count": null,
      "outputs": [
        {
          "output_type": "stream",
          "name": "stdout",
          "text": [
            "Hi Ananthi\n",
            "3\n",
            "35.0\n",
            "\n",
            "Hi My Name is Ananthi 25\n",
            "Hi_My_Name_is_Ananthi\n",
            "Hi My Name is Ananthi@@Next Line\n",
            "Hi My Name is Ananthi\n",
            "Next Line\n",
            "\n",
            "Hi_My_Name_is_Ananthi@@\n",
            "Next Line\n"
          ]
        }
      ]
    },
    {
      "cell_type": "markdown",
      "source": [
        "**Working With Strings and input in Python**"
      ],
      "metadata": {
        "id": "ud0KVV92wX0H"
      }
    },
    {
      "cell_type": "code",
      "source": [
        "#Working With Strings and input in Python\n",
        "print(\"Python is Easy to Learn\")\n",
        "print('Easy to Use')\n",
        "print('I \"Personally\" am loving it a lot')\n",
        "print(\"It's easy to include 'single quotes' also\")\n",
        "\n",
        "#This is a comment\n",
        "#Input From User\n",
        "Variable=\"Your Name is:\"\n",
        "name=\"Ananthi\"\n",
        "print(Variable+\" \"+name)\n",
        "\n",
        "Variable=\"Your Name is:\"\n",
        "name=input(\"Enter Your name: \")\n",
        "print(Variable+\" \"+name)"
      ],
      "metadata": {
        "colab": {
          "base_uri": "https://localhost:8080/"
        },
        "id": "CUoSQFANN82X",
        "outputId": "6494991b-59c4-496a-af4f-4afb634f98b9"
      },
      "execution_count": null,
      "outputs": [
        {
          "output_type": "stream",
          "name": "stdout",
          "text": [
            "Python is Easy to Learn\n",
            "Easy to Use\n",
            "I \"Personally\" am loving it a lot\n",
            "It's easy to include 'single quotes' also\n",
            "Your Name is: Ananthi\n",
            "Enter Your name: A\n",
            "Your Name is: A\n"
          ]
        }
      ]
    },
    {
      "cell_type": "markdown",
      "source": [
        "**Escape Sequence or Characters**"
      ],
      "metadata": {
        "id": "VLzfDJutwbeG"
      }
    },
    {
      "cell_type": "code",
      "source": [
        "#Escape Sequence or Characters\n",
        "#\\n gives you new line\n",
        "string1=\"I am a\\nstring\\nin several lines\"\n",
        "print(string1)\n",
        "\n",
        "#\\t gives few empty space(tabs)\n",
        "string2=\"1.oil\\t 2.Flour\\t 3.Bake\\t 4.Oven\\n\"\n",
        "print(string2)\n",
        "\n",
        "#\\',\\\",'''\n",
        "print('Donald Trump said \"It\\'s going to be huge\".')     #single quote inside single quote\n",
        "print(\"Donald Trump said \\\"It's going to be huge\\\".\")    #double quotes inside double quotes\n",
        "print('''Donald Trump said \"It's going to be huge\".\\n''')  #Triple Quotes-No Problem for any quotes\n",
        "\n",
        "string3=\"\"\"I am a string\n",
        "which is spanning\n",
        "over several lines\"\"\"   #only triple quotes consider several lines\n",
        "print(string3)\n",
        "\n",
        "string4=\"\"\"I am a string \\\n",
        "which is spanning \\\n",
        "over several lines\"\"\"   #\\ - only in one line\n",
        "print(string4)"
      ],
      "metadata": {
        "colab": {
          "base_uri": "https://localhost:8080/"
        },
        "id": "_we9qYcyQxAE",
        "outputId": "591eb23f-7aca-43b9-e785-d7e75b2c9f52"
      },
      "execution_count": 11,
      "outputs": [
        {
          "output_type": "stream",
          "name": "stdout",
          "text": [
            "I am a\n",
            "string\n",
            "in several lines\n",
            "1.oil\t 2.Flour\t 3.Bake\t 4.Oven\n",
            "\n",
            "Donald Trump said \"It's going to be huge\".\n",
            "Donald Trump said \"It's going to be huge\".\n",
            "Donald Trump said \"It's going to be huge\".\n",
            "\n",
            "I am a string\n",
            "which is spanning\n",
            "over several lines\n",
            "I am a string which is spanning over several lines\n"
          ]
        }
      ]
    },
    {
      "cell_type": "code",
      "source": [
        "#C:\\Users\\temp\\new_course.pdf\n",
        "print(\"C:\\\\Users\\temp\\new_course.pdf\") #use \\ for ignore all escape sequence(\\t,\\n)\n",
        "\n",
        "print(r\"C:\\Users\\temp\\new_course.pdf\")   #r-raw string\n",
        "\n",
        "#\\a gives you a bell sound\n",
        "print(\"Hello\\b\\bWorld\")   #\\b-gives you one step back(ASCII Backspace)\n",
        "\n",
        "print(\"Hello\\fWorld\")    #\\f-gives you next page of the program(ASCII Formfeed(early python now its removed))\n",
        "\n",
        "print(\"Helloooo\\rWorld\")    #Carriage Return\n",
        "\n",
        "print(\"Hello\\vWorld\")     #\\v-vertical tab-not now in python \n",
        "#output- Hello\n",
        "#            World\n",
        "\n",
        "print(\"\\110\\145\\154\\154\\157\") #\\ooo-octal value of 110 is H in ASCII Table\n",
        "\n",
        "print(\"\\x48\\x65\\x6c\\x6f\\x20\")  #\\xhh-Hexa decimal, hh=value,x followed by value\n",
        "\n",
        "#\\uxxxx\n",
        "#\\Uxxxxxxxx-unicode -advanced\n"
      ],
      "metadata": {
        "colab": {
          "base_uri": "https://localhost:8080/"
        },
        "id": "X5tR7FvwrH-3",
        "outputId": "e8b176fb-e93a-4269-e7e5-edcb591a3f0c"
      },
      "execution_count": 29,
      "outputs": [
        {
          "output_type": "stream",
          "name": "stdout",
          "text": [
            "C:\\Users\temp\n",
            "ew_course.pdf\n",
            "C:\\Users\\temp\\new_course.pdf\n",
            "Hello\b\bWorld\n",
            "Hello\fWorld\n",
            "Helloooo\rWorld\n",
            "Hello\u000bWorld\n",
            "Hello\n",
            "Helo \n"
          ]
        }
      ]
    },
    {
      "cell_type": "markdown",
      "source": [
        "**Variables and Data Types**"
      ],
      "metadata": {
        "id": "3ygWnxZWw_hZ"
      }
    },
    {
      "cell_type": "code",
      "source": [
        "#Valid Variable Names\n",
        "myvar=\"Ananthi\"\n",
        "my_var=\"Ananthi\"\n",
        "_my_var=\"Ananthi\"\n",
        "myVar=\"Ananthi\"\n",
        "MYVAR='Ananthi'\n",
        "myvar2='Ananthi'\n",
        "\n",
        "#Invalid Variable Names\n",
        "#2myvar='ananthi'\n",
        "#my-var=\"Ananthi\"\n",
        "#my var=\"Ananthi\" "
      ],
      "metadata": {
        "id": "8Y3UCkLNxE2h"
      },
      "execution_count": 30,
      "outputs": []
    },
    {
      "cell_type": "code",
      "source": [
        "#type-Identify variable type\n",
        "string_1=\"Ananthi\"\n",
        "print(type(string_1))\n",
        "\n",
        "print(type(\"Ananthi\"))\n",
        "print(type(10))"
      ],
      "metadata": {
        "colab": {
          "base_uri": "https://localhost:8080/"
        },
        "id": "AjQMQJENx7tZ",
        "outputId": "7f940268-8b5a-4d0b-994f-a85f75a268d4"
      },
      "execution_count": 34,
      "outputs": [
        {
          "output_type": "stream",
          "name": "stdout",
          "text": [
            "<class 'str'>\n",
            "<class 'str'>\n",
            "<class 'int'>\n"
          ]
        }
      ]
    },
    {
      "cell_type": "code",
      "source": [
        "x=\"Python\"\n",
        "y=\"is\"\n",
        "z=\"Best\"\n",
        "#these are of type 'str' so we will print like this\n",
        "print(x+\" \"+y+\" \"+z)\n",
        "print(x)\n",
        "#or assign like this\n",
        "x1,y1,z1=\"Pythonn\",\"iss\",\"besttt\" \n",
        "print(x1+\" \"+y1+\" \"+z1)\n",
        "\n",
        "#x,y,z=\"python\",\"is\",7--error (typeerror)\n",
        "\n",
        "print(x+\" is easy\")   #assign values\n",
        "\n",
        "a,b=\"me\",\"1\"\n",
        "c=a+b         #concatenate strings\n",
        "print(c)\n",
        "\n",
        "#isinstance(),issubclass()-Works in subclass like int+float is working \n",
        "#numeric data Types are:int,float,decimal,complex are working together\n",
        "#string data types str"
      ],
      "metadata": {
        "colab": {
          "base_uri": "https://localhost:8080/"
        },
        "id": "A-e6NkDDyhVg",
        "outputId": "4c51a0c0-64da-4242-ee5a-c1f8c12de466"
      },
      "execution_count": 46,
      "outputs": [
        {
          "output_type": "stream",
          "name": "stdout",
          "text": [
            "Python is Best\n",
            "Python\n",
            "Pythonn iss besttt\n",
            "Python is easy\n",
            "me1\n"
          ]
        }
      ]
    },
    {
      "cell_type": "markdown",
      "source": [
        "Data Types in python:\n",
        "\n",
        "\n",
        "*   Numeric(int,float,complex)\n",
        "*   Iterator\n",
        "*   Sequence(which are also iterators)\n",
        "*   Mapping\n",
        "*   File\n",
        "*   Class\n",
        "*   Exception\n",
        "\n"
      ],
      "metadata": {
        "id": "xwZNP6G32A5t"
      }
    },
    {
      "cell_type": "code",
      "source": [],
      "metadata": {
        "id": "LE5NsOQD08j_"
      },
      "execution_count": null,
      "outputs": []
    }
  ]
}