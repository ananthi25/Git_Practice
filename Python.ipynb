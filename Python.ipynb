{
  "nbformat": 4,
  "nbformat_minor": 0,
  "metadata": {
    "colab": {
      "provenance": [],
      "authorship_tag": "ABX9TyPOYtCXB/a+ZQEyuaDVyhuN",
      "include_colab_link": true
    },
    "kernelspec": {
      "name": "python3",
      "display_name": "Python 3"
    },
    "language_info": {
      "name": "python"
    }
  },
  "cells": [
    {
      "cell_type": "markdown",
      "metadata": {
        "id": "view-in-github",
        "colab_type": "text"
      },
      "source": [
        "<a href=\"https://colab.research.google.com/github/ananthi25/Git_Practice/blob/main/Python.ipynb\" target=\"_parent\"><img src=\"https://colab.research.google.com/assets/colab-badge.svg\" alt=\"Open In Colab\"/></a>"
      ]
    },
    {
      "cell_type": "markdown",
      "source": [
        "###**Python Basics**"
      ],
      "metadata": {
        "id": "prabYY_ZKEOc"
      }
    },
    {
      "cell_type": "code",
      "execution_count": 3,
      "metadata": {
        "colab": {
          "base_uri": "https://localhost:8080/"
        },
        "id": "QzMbNIggJL8t",
        "outputId": "6a11a73d-5bfe-4b83-d73a-5958979e62d3"
      },
      "outputs": [
        {
          "output_type": "stream",
          "name": "stdout",
          "text": [
            "Hello World\n"
          ]
        }
      ],
      "source": [
        "#First Program\n",
        "print(\"Hello World\")"
      ]
    },
    {
      "cell_type": "code",
      "source": [
        "#Printing in Python\n",
        "print('Hi Ananthi')\n",
        "print(2+1)\n",
        "print(10*3.5)\n",
        "print()\n",
        "print(\"Hi\",\"My\",\"Name\",\"is\",\"Ananthi\",25)  #By default. it takes one space\n",
        "print(\"Hi\",\"My\",\"Name\",\"is\",\"Ananthi\",sep='_')\n",
        "print(\"Hi\",\"My\",\"Name\",\"is\",\"Ananthi\",end='@@')\n",
        "print(\"Next Line\")\n",
        "print(\"Hi\",\"My\",\"Name\",\"is\",\"Ananthi\",end='\\n')\n",
        "print(\"Next Line\")\n",
        "print()\n",
        "print(\"Hi\",\"My\",\"Name\",\"is\",\"Ananthi\",end='@@\\n',sep='_')  #single Line\n",
        "print(\"Next Line\")"
      ],
      "metadata": {
        "colab": {
          "base_uri": "https://localhost:8080/"
        },
        "id": "eoFX1ynVLMiv",
        "outputId": "3427ae1e-bca3-470c-87ba-5439763e9adc"
      },
      "execution_count": 13,
      "outputs": [
        {
          "output_type": "stream",
          "name": "stdout",
          "text": [
            "Hi Ananthi\n",
            "3\n",
            "35.0\n",
            "\n",
            "Hi My Name is Ananthi 25\n",
            "Hi_My_Name_is_Ananthi\n",
            "Hi My Name is Ananthi@@Next Line\n",
            "Hi My Name is Ananthi\n",
            "Next Line\n",
            "\n",
            "Hi_My_Name_is_Ananthi@@\n",
            "Next Line\n"
          ]
        }
      ]
    },
    {
      "cell_type": "code",
      "source": [
        "#Working With Strings and input in Python\n",
        "print(\"Python is Easy to Learn\")\n",
        "print('Easy to Use')\n",
        "print('I \"Personally\" am loving it a lot')\n",
        "print(\"It's easy to include 'single quotes' also\")\n",
        "\n",
        "#This is a comment\n",
        "#Input From User\n",
        "Variable=\"Your Name is:\"\n",
        "name=\"Ananthi\"\n",
        "print(Variable+\" \"+name)\n",
        "\n",
        "Variable=\"Your Name is:\"\n",
        "name=input(\"Enter Your name: \")\n",
        "print(Variable+\" \"+name)"
      ],
      "metadata": {
        "colab": {
          "base_uri": "https://localhost:8080/"
        },
        "id": "CUoSQFANN82X",
        "outputId": "6494991b-59c4-496a-af4f-4afb634f98b9"
      },
      "execution_count": 24,
      "outputs": [
        {
          "output_type": "stream",
          "name": "stdout",
          "text": [
            "Python is Easy to Learn\n",
            "Easy to Use\n",
            "I \"Personally\" am loving it a lot\n",
            "It's easy to include 'single quotes' also\n",
            "Your Name is: Ananthi\n",
            "Enter Your name: A\n",
            "Your Name is: A\n"
          ]
        }
      ]
    },
    {
      "cell_type": "code",
      "source": [
        "#Escape Sequence or Characters\n",
        "#\\n gives you new line\n",
        "string1=\"I am a\\nstring\\nin several lines\"\n",
        "print(string1)\n",
        "\n",
        "#\\t gives few empty space(tabs)\n",
        "string2=\"1.oil\\t 2.Flour\\t 3.Bake\\t 4.Oven\\n\"\n",
        "print(string2)\n",
        "\n",
        "#\\'\n",
        "print('Donald Trump said \"It\\'s going to be huge')\n"
      ],
      "metadata": {
        "colab": {
          "base_uri": "https://localhost:8080/"
        },
        "id": "_we9qYcyQxAE",
        "outputId": "35f6d86a-43f9-4558-b02a-82a03c1f34a8"
      },
      "execution_count": 29,
      "outputs": [
        {
          "output_type": "stream",
          "name": "stdout",
          "text": [
            "I am a\n",
            "string\n",
            "in several lines\n",
            "1.oil\t 2.Flour\t 3.Bake\t 4.Oven\n",
            "\n",
            "Donald Trump said \"It's going to be huge\n"
          ]
        }
      ]
    }
  ]
}